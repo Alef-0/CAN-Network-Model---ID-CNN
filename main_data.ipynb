{
 "cells": [
  {
   "cell_type": "code",
   "execution_count": 1,
   "metadata": {},
   "outputs": [],
   "source": [
    "import torch\n",
    "from torch import nn\n",
    "import numpy as np\n",
    "import pandas as pd\n",
    "import matplotlib.pyplot as plt\n",
    "import os"
   ]
  },
  {
   "cell_type": "code",
   "execution_count": 2,
   "metadata": {},
   "outputs": [],
   "source": [
    "def set_device():\n",
    "\tglobal DEVICE\n",
    "\tif torch.cuda.is_available(): DEVICE = torch.device('cuda')\n",
    "\telse: DEVICE = torch.device('cpu')\n",
    "\treturn DEVICE\n",
    "\n",
    "DEVICE = set_device()"
   ]
  },
  {
   "cell_type": "markdown",
   "metadata": {},
   "source": [
    "# Leitura de Dados"
   ]
  },
  {
   "cell_type": "code",
   "execution_count": 3,
   "metadata": {},
   "outputs": [],
   "source": [
    "def input_to_pandas(ler, escrever, save = True):\n",
    "\t# Precisa ter a pasta original_files\n",
    "\tfrom io import StringIO\n",
    "\n",
    "\twith open(ler, 'r') as file:\n",
    "\t\t# Grab everything and then change to csv\n",
    "\t\teverything = file.read().strip()\n",
    "\t\teverything = everything.replace('(', '').replace(')', '').replace(' can0','').replace('#', ' ')\n",
    "\t\teverything = everything.replace(' ', ',')\n",
    "\t\t# read in csv\n",
    "\t\tframe = pd.read_csv(StringIO(everything), header=None)\n",
    "\t\tframe = frame.rename(columns = {0:'TIME', 1: 'ID', 2: 'DATA', 3: 'NORMAL'})\n",
    "\t\t\n",
    "\t\t# Changing R and T's\n",
    "\t\tmask_t = frame['NORMAL'] == 'T'; mask_r = frame['NORMAL'] == 'R'\n",
    "\t\tframe.loc[mask_r, 'NORMAL'] = True; frame.loc[mask_t, 'NORMAL'] = False;\n",
    "\n",
    "\t\t# Putting numbers instead of hexadecimal\n",
    "\t\tframe['DATA'] = frame['DATA'].apply(lambda x: int(x, 16))\n",
    "\n",
    "\t\tif save: frame.to_csv(escrever, index=False, header = True)\n",
    "\t\tframe = None # Fechando o frame para salvar memória\n",
    "\n",
    "# input_to_pandas(r'3-impersonation-candump-2024-07-10_182049.log', '01impersonate.csv')\n"
   ]
  },
  {
   "cell_type": "code",
   "execution_count": 4,
   "metadata": {},
   "outputs": [
    {
     "data": {
      "text/plain": [
       "(tensor([[1., 0., 0., 0., 0.],\n",
       "         [0., 0., 0., 0., 0.],\n",
       "         [0., 0., 0., 0., 0.],\n",
       "         [0., 0., 0., 0., 0.],\n",
       "         [0., 1., 0., 0., 0.],\n",
       "         [0., 0., 0., 0., 0.],\n",
       "         [0., 0., 0., 0., 0.],\n",
       "         [0., 0., 0., 0., 1.],\n",
       "         [0., 0., 0., 0., 0.],\n",
       "         [0., 0., 0., 1., 0.],\n",
       "         [0., 0., 0., 0., 0.],\n",
       "         [0., 0., 0., 0., 0.],\n",
       "         [0., 0., 0., 0., 0.],\n",
       "         [0., 0., 1., 0., 0.],\n",
       "         [0., 0., 0., 0., 0.]]),\n",
       " tensor([0.]))"
      ]
     },
     "execution_count": 4,
     "metadata": {},
     "output_type": "execute_result"
    }
   ],
   "source": [
    "U_MISS = ['000', '007', '008', '00D', '00E', '014', '015', '016', '017', '041', '055', '056', '05B', '05C', '05D']\n",
    "# UNIQUE = ['000', '007', '008', '00D', '00E', '014', '015', '016', '017', '041', '055', '056', '05B', '05C', '05D', 'NO']\n",
    "SET = {'000', '007', '008', '00D', '00E', '014', '015', '016', \n",
    "\t\t\t'017', '041', '055', '056', '05B', '05C', '05D'}\n",
    "\n",
    "def one_hot_encoded(values):\n",
    "\t# Todos os outros vão em NO\n",
    "\tdummies = pd.get_dummies([x if x in SET else '000' for x in values], dtype=np.float32)\n",
    "\treturn dummies.reindex(columns=U_MISS, fill_value=0.0)\n",
    "\n",
    "def get_information(frame : pd.DataFrame):\n",
    "\thot = one_hot_encoded(frame['ID'].values)\n",
    "\t# data_values = frame['DATA'].values\n",
    "\t# for x in range(len(hot)):\n",
    "\t# \ty = hot.iloc[x].idxmax()\n",
    "\t# \thot.at[x,y] = data_values[x].astype(np.float32)\n",
    "\t\n",
    "\t# hot['DATA'] = [x for x in frame['DATA'].values]\n",
    "\thot = torch.tensor(hot.values, dtype=torch.float32).transpose(0,1)\n",
    "\n",
    "\t\n",
    "\t\n",
    "\ttipos = all(frame['NORMAL'].values) * 1.0 # Vê se tem um ataque\n",
    "\ttipos = torch.tensor([tipos], dtype=torch.float32)\n",
    "\n",
    "\treturn hot, tipos\n",
    "\n",
    "file_name = r'training\\dos.csv'\n",
    "file = pd.read_csv(file_name)\n",
    "get_information(file.iloc[0:5])"
   ]
  },
  {
   "cell_type": "code",
   "execution_count": 5,
   "metadata": {},
   "outputs": [],
   "source": [
    "class Dataset():\n",
    "\tdef __init__(self, window, datas : list, division = 0.8):\n",
    "\t\tself.window_size = window\n",
    "\t\tself.datasets = []\n",
    "\t\tfor i in datas:\n",
    "\t\t\tself.datasets.append(pd.read_csv(i))\n",
    "\t\tself.middle = []\n",
    "\t\tfor i in self.datasets:\n",
    "\t\t\tself.middle.append(int(division * (len(i) // window)) - self.window_size)\n",
    "\t\tself.end = []\n",
    "\t\tfor i in self.datasets:\n",
    "\t\t\tself.end.append((len(i) // window) - self.window_size)\n",
    "\n",
    "\tdef __getitem__(self, place):\n",
    "\t\ttable, index = place\n",
    "\t\tindex *= self.window_size # offset\n",
    "\t\tframe = self.datasets[table][index : index + self.window_size]\n",
    "\n",
    "\t\t# Pegar informações\n",
    "\t\treturn get_information(frame)\n",
    "\t\n",
    "LISTA_TREINAMENTO = [r\"training\\normal.csv\", r\"training\\dos.csv\", r\"training\\false.csv\", r\"training\\fuzz.csv\", r\"training\\impersonate.csv\", ]\n",
    "dataset = Dataset(16, LISTA_TREINAMENTO)"
   ]
  },
  {
   "cell_type": "code",
   "execution_count": 6,
   "metadata": {},
   "outputs": [],
   "source": [
    "class Dataloader():\n",
    "\tdef __init__(self, dataset):\n",
    "\t\tself.dataset = dataset\n",
    "\t\tself.iter_t = [0,0,0,0,0] #normal, dos, false, fuzz, impersonate\n",
    "\n",
    "\tdef reset_others(self, training = False):\n",
    "\t\tif training: self.iter_t[0] = 0\n",
    "\t\tself.iter_t[1] = 0\n",
    "\t\tself.iter_t[2] = 0\n",
    "\t\tself.iter_t[3] = 0\n",
    "\t\tself.iter_t[4] = 0\n",
    "\t\t\n",
    "\tdef get_training(self, normal = 16, ataque = 4):\n",
    "\t\t# Pegar em valor 3 de cada\t\t\n",
    "\t\twhile True:\n",
    "\t\t\tvalues = []\n",
    "\t\t\t# Pegar os valores\n",
    "\t\t\tvalues += [self.dataset[0, x] for x in range(self.iter_t[0], self.iter_t[0] + normal)]\n",
    "\t\t\tvalues += [self.dataset[y, x] for y in [1,2,3,4] for x in range(self.iter_t[y], self.iter_t[y] + ataque) ]\n",
    "\t\t\t# Offset de iteradores\n",
    "\t\t\tself.iter_t[0] = self.iter_t[0] + normal if self.iter_t[0] + normal < self.dataset.middle[0] else 0\n",
    "\t\t\t\n",
    "\t\t\tsair = False\n",
    "\t\t\tfor i in [1,2,3,4]:\n",
    "\t\t\t\tif self.iter_t[i] + ataque < self.dataset.middle[i]:\n",
    "\t\t\t\t\tself.iter_t[i] = self.iter_t[i] + ataque\n",
    "\t\t\t\telse: sair = True\n",
    "\t\t\tif sair: break\n",
    "\t\t\t\n",
    "\t\t\t# separar data e label\n",
    "\t\t\tdata, label = zip(*values)\n",
    "\t\t\tyield torch.stack(data), torch.stack(label)\n",
    "\t\n",
    "\tdef get_impersonate(self):\n",
    "\t\t# Pegar em valor 3 de cada\t\t\n",
    "\t\twhile True:\n",
    "\t\t\tvalues = []\n",
    "\t\t\t# Pegar os valores\n",
    "\t\t\tvalues += [self.dataset[0, x] for x in range(self.iter_t[0], self.iter_t[0] + 16)]\n",
    "\t\t\tvalues += [self.dataset[4, x] for x in range(self.iter_t[4], self.iter_t[4] + 16) ]\n",
    "\t\t\t# Offset de iteradores\n",
    "\t\t\tself.iter_t[0] = self.iter_t[0] + 16 if self.iter_t[0] + 16 < self.dataset.middle[0] else 0\n",
    "\t\t\tself.iter_t[4] = self.iter_t[4] + 16 if self.iter_t[4] + 16 < self.dataset.middle[4] else 0\n",
    "\t\t\t\t\t\t\n",
    "\t\t\t# separar data e label\n",
    "\t\t\tdata, label = zip(*values)\n",
    "\t\t\tyield torch.stack(data), torch.stack(label)\n",
    "\n",
    "\tdef get_validation(self):\n",
    "\t\t# Pegar em valor 3 de cada\n",
    "\t\tfor i in range(5):\n",
    "\t\t\tvalues = [self.dataset[i, x] for x in \n",
    "\t\t\t\trange(self.dataset.middle[i], self.dataset.end[i], self.dataset.window_size)]\n",
    "\t\t\tdata, label = zip(*values)\n",
    "\t\t\tyield torch.stack(data), torch.stack(label)\n",
    "\n",
    "\n",
    "dataloader = Dataloader(dataset)"
   ]
  },
  {
   "cell_type": "markdown",
   "metadata": {},
   "source": [
    "# Criação de Modelo"
   ]
  },
  {
   "cell_type": "code",
   "execution_count": 7,
   "metadata": {},
   "outputs": [],
   "source": [
    "def init_weigh_normal(model):\n",
    "\tfor layer in model:\n",
    "\t\tif isinstance(layer, nn.Conv1d):\n",
    "\t\t\tnn.init.kaiming_normal_(layer.weight, nonlinearity=\"leaky_relu\")\n",
    "\t\tif isinstance(layer, nn.BatchNorm1d):\n",
    "\t\t\tnn.init.ones_(layer.weight)\n",
    "\t\t\tnn.init.zeros_(layer.bias)\n",
    "\t\tif isinstance(layer, nn.BatchNorm2d):\n",
    "\t\t\tnn.init.ones_(layer.weight)\n",
    "\t\t\tnn.init.zeros_(layer.bias)\n",
    "\n",
    "class Discriminator(nn.Module):\n",
    "\tdef __init__(self, window):\n",
    "\t\tsuper(Discriminator, self).__init__()\n",
    "\t\tself.window = window\n",
    "\n",
    "\t\tself.convolutions = nn.Sequential(\n",
    "\t\t\t# 11,1,5 ou 13,1,6 ou 15,1,7 ou 17,1,8\n",
    "\t\t\tnn.Conv1d(15,9, 17, 1, 8, bias=False),\n",
    "\t\t\tnn.BatchNorm1d(9),\n",
    "\t\t\tnn.LeakyReLU(0.2, inplace=True),\n",
    "\t\t\t# Proxima camada\n",
    "\t\t\tnn.Conv1d(9,5, 17, 1, 8, bias=False),\n",
    "\t\t\tnn.BatchNorm1d(5),\n",
    "\t\t\tnn.LeakyReLU(0.2, inplace=True),\n",
    "\t\t\t# Proxima camada\n",
    "\t\t\tnn.Conv1d(5,3, 17, 1, 8, bias=False),\n",
    "\t\t\tnn.BatchNorm1d(3),\n",
    "\t\t\tnn.LeakyReLU(0.2, inplace=True),\n",
    "\t\t)\n",
    "\t\t\n",
    "\t\tinit_weigh_normal(self.convolutions) # Para melhorar Talvez\n",
    "\n",
    "\t\tself.fullyConnected = nn.Sequential(\n",
    "\t\t\tnn.Linear(window * 3, window * 2),\n",
    "\t\t\tnn.BatchNorm1d(window * 2),\n",
    "\t\t\tnn.LeakyReLU(0.2, inplace=True),\n",
    "\t\t\t# Proxima camada\n",
    "\t\t\tnn.Linear(window * 2, 1),\n",
    "\t\t\tnn.Sigmoid()\n",
    "\t\t)\n",
    "\n",
    "\t\tinit_weigh_normal(self.fullyConnected)\n",
    "\n",
    "\tdef forward(self, x):\n",
    "\t\ty = self.convolutions(x)\n",
    "\t\t# print(y.shape)\n",
    "\t\ty = y.reshape(y.shape[0], -1)\n",
    "\t\treturn self.fullyConnected(y)\n",
    "\t\n",
    "# model = Discriminator(16).to(DEVICE)"
   ]
  },
  {
   "cell_type": "markdown",
   "metadata": {},
   "source": [
    "# Treinamento"
   ]
  },
  {
   "cell_type": "code",
   "execution_count": 8,
   "metadata": {},
   "outputs": [],
   "source": [
    "def graph_validation(model, dataloader : Dataloader, DEVICE, graph_range = (0,1)):\n",
    "\tmodel.eval()\n",
    "\tattack = []\n",
    "\tnormal = []\n",
    "\ttotal = 0\n",
    "\t# Pegar os pontos\n",
    "\tfor data, labels  in dataloader.get_validation():\n",
    "\t\tpredictions = model(data.to(DEVICE))\n",
    "\t\tfor label, prediction in zip(labels, predictions):\n",
    "\t\t\tif label.item() == 1.0: normal.append(prediction.item())\n",
    "\t\t\telse: attack.append(prediction.item())\n",
    "\t\t\ttotal += 1\n",
    "\t\n",
    "\t# Fazer os graficos\n",
    "\tplt.hist(normal, bins = 100, color='b', alpha = 0.4, range = graph_range)\n",
    "\tplt.hist(attack, bins = 100, color='r', alpha = 0.7, range = graph_range)\t\n",
    "\t"
   ]
  },
  {
   "cell_type": "code",
   "execution_count": 9,
   "metadata": {},
   "outputs": [],
   "source": [
    "def save_model(model, nome):\n",
    "\ttorch.save(model.cpu(), f\"{nome}\")\n",
    "\n",
    "def load_model(arquivo : Discriminator, window, device='cpu'):\n",
    "\t# Precisa ser da mesma janela\n",
    "\tmodel = Discriminator(window)\n",
    "\tmodel = torch.load(arquivo).to(device)\n",
    "\tcriterion = nn.BCELoss() # Usado para regressão logística\n",
    "\toptmizer = torch.optim.SGD(model.parameters(), lr=2e-4, momentum=0.9) # Precisa ter um grande número de épocas para servir\n",
    "\treturn model, criterion, optmizer"
   ]
  },
  {
   "cell_type": "code",
   "execution_count": 10,
   "metadata": {},
   "outputs": [],
   "source": [
    "LISTA_TREINAMENTO = [r\"training\\normal.csv\", r\"training\\dos.csv\", r\"training\\false.csv\", r\"training\\fuzz.csv\", r\"training\\impersonate.csv\"]\n",
    "\n",
    "def create_everything(window, device = 'cpu', Adam = False, division = 0.8):\n",
    "\tmodel = Discriminator(window).to(device)\n",
    "\tcriterion = nn.BCELoss()\n",
    "\t# OTIMO 2e-4 para lr\n",
    "\t# Momentum de 0.9 normal\n",
    "\t# Weight_decay com 1e-5\n",
    "\tif Adam: optimizer = torch.optim.Adam(model.parameters(), lr=3e-4) # Valores pegos de exemplo\n",
    "\telse:  optimizer = torch.optim.SGD(model.parameters(), lr = 2e-4, momentum=0.9, weight_decay=1e-3) # Só testar\n",
    "\tdataset = Dataset(window, LISTA_TREINAMENTO, division)\n",
    "\tdataloader = Dataloader(dataset)\n",
    "\n",
    "\treturn model, criterion, optimizer, dataset, dataloader"
   ]
  },
  {
   "cell_type": "code",
   "execution_count": 11,
   "metadata": {},
   "outputs": [],
   "source": [
    "def training(model, criterion, optmizer, dataloader : Dataloader, device, LIMIT = 0.05, EPOCHS = 1):\n",
    "\ttraining_losses = []\n",
    "\tvalidation_losses = []\n",
    "\tloss_training = 100\n",
    "\tloss_validation = 100\n",
    "\tsair = False\n",
    "\tTEST_VALIDATION = 16 * (128 / model.window)\n",
    "\n",
    "\tfor epoch in range(EPOCHS):\n",
    "\t\tdataloader.reset_others()\n",
    "\t\tfor iteration, (data,labels) in enumerate(dataloader.get_impersonate()):\n",
    "\t\t\tmodel.train()\n",
    "\t\t\toptmizer.zero_grad() # Zeroing gradients\n",
    "\t\t\tprediction = model(data.to(device))\n",
    "\t\t\t\n",
    "\t\t\t#Compute loss\n",
    "\t\t\tloss = criterion(prediction, labels.to(device))\n",
    "\t\t\tloss.backward()\n",
    "\t\t\toptmizer.step()\n",
    "\t\t\t\n",
    "\t\t\ttraining_losses.append(loss.detach().cpu().numpy())\n",
    "\t\t\tif (iteration + 1) % TEST_VALIDATION == 0:\n",
    "\t\t\t\tmodel.eval()\n",
    "\t\t\t\tfor data, labels  in dataloader.get_validation():\n",
    "\t\t\t\t\tprediction = model(data.to(device))\n",
    "\t\t\t\t\t# Compute loss\n",
    "\t\t\t\t\tloss = criterion(prediction, labels.to(device))\n",
    "\t\t\t\t\t# salvando loss\n",
    "\t\t\t\t\tvalidation_losses.append(loss.detach().cpu().numpy())\n",
    "\t\t\t\t\n",
    "\t\t\t\tloss_training = np.mean(training_losses) \n",
    "\t\t\t\tloss_validation = np.mean(validation_losses)\n",
    "\t\t\t\tprint(f\"[{epoch + 1}° Epoch] | {iteration + 1}° batch: Training loss = {loss_training : .6f} | Validation loss = {loss_validation : .5f}\")\n",
    "\t\t\t\t\n",
    "\t\t\t\ttraining_losses.clear(); validation_losses.clear()\n",
    "\t\t\t\n",
    "\t\t\t\tif loss_validation < LIMIT or loss_training < LIMIT: \n",
    "\t\t\t\t\tsair = True\n",
    "\t\t\t\t\tprint(\"Saiu porque atingiu o limite\")\n",
    "\t\t\t\t\tbreak\n",
    "\t\t\n",
    "\t\tif sair: break # Acabar\n",
    "\t\t\n",
    "\tprint(\"Terminou o treinamento\")"
   ]
  },
  {
   "cell_type": "markdown",
   "metadata": {},
   "source": [
    "# Testes"
   ]
  },
  {
   "cell_type": "code",
   "execution_count": 12,
   "metadata": {},
   "outputs": [
    {
     "name": "stdout",
     "output_type": "stream",
     "text": [
      "[1° Epoch] | 32° batch: Training loss =  0.736766 | Validation loss =  0.81209\n",
      "[1° Epoch] | 64° batch: Training loss =  0.733547 | Validation loss =  0.81230\n",
      "[1° Epoch] | 96° batch: Training loss =  0.706787 | Validation loss =  0.78565\n",
      "[1° Epoch] | 128° batch: Training loss =  0.688558 | Validation loss =  0.77354\n",
      "[1° Epoch] | 160° batch: Training loss =  0.681571 | Validation loss =  0.75596\n",
      "[1° Epoch] | 192° batch: Training loss =  0.664343 | Validation loss =  0.74867\n",
      "[1° Epoch] | 224° batch: Training loss =  0.647975 | Validation loss =  0.71519\n",
      "[1° Epoch] | 256° batch: Training loss =  0.614673 | Validation loss =  0.70332\n",
      "[1° Epoch] | 288° batch: Training loss =  0.574068 | Validation loss =  0.67526\n",
      "[1° Epoch] | 320° batch: Training loss =  0.529150 | Validation loss =  0.66187\n",
      "[1° Epoch] | 352° batch: Training loss =  0.462379 | Validation loss =  0.64351\n",
      "[1° Epoch] | 384° batch: Training loss =  0.386840 | Validation loss =  0.63709\n",
      "[1° Epoch] | 416° batch: Training loss =  0.317580 | Validation loss =  0.65006\n",
      "[1° Epoch] | 448° batch: Training loss =  0.251580 | Validation loss =  0.66834\n",
      "[1° Epoch] | 480° batch: Training loss =  0.203589 | Validation loss =  0.68736\n",
      "[1° Epoch] | 512° batch: Training loss =  0.162775 | Validation loss =  0.72437\n",
      "[1° Epoch] | 544° batch: Training loss =  0.133122 | Validation loss =  0.75049\n",
      "[1° Epoch] | 576° batch: Training loss =  0.110113 | Validation loss =  0.77553\n",
      "[1° Epoch] | 608° batch: Training loss =  0.094129 | Validation loss =  0.79712\n",
      "[1° Epoch] | 640° batch: Training loss =  0.080679 | Validation loss =  0.82849\n",
      "[1° Epoch] | 672° batch: Training loss =  0.071124 | Validation loss =  0.84200\n",
      "[1° Epoch] | 704° batch: Training loss =  0.063478 | Validation loss =  0.86411\n",
      "[1° Epoch] | 736° batch: Training loss =  0.058313 | Validation loss =  0.88602\n",
      "[1° Epoch] | 768° batch: Training loss =  0.052540 | Validation loss =  0.90890\n",
      "[1° Epoch] | 800° batch: Training loss =  0.047289 | Validation loss =  0.91984\n",
      "[1° Epoch] | 832° batch: Training loss =  0.043806 | Validation loss =  0.92918\n",
      "[1° Epoch] | 864° batch: Training loss =  0.040499 | Validation loss =  0.94671\n",
      "[1° Epoch] | 896° batch: Training loss =  0.037011 | Validation loss =  0.96455\n",
      "[1° Epoch] | 928° batch: Training loss =  0.034790 | Validation loss =  0.97706\n",
      "[1° Epoch] | 960° batch: Training loss =  0.032603 | Validation loss =  0.98839\n",
      "[1° Epoch] | 992° batch: Training loss =  0.030374 | Validation loss =  0.99746\n",
      "[1° Epoch] | 1024° batch: Training loss =  0.028982 | Validation loss =  1.01443\n",
      "[1° Epoch] | 1056° batch: Training loss =  0.027120 | Validation loss =  1.01572\n",
      "[1° Epoch] | 1088° batch: Training loss =  0.026551 | Validation loss =  1.02775\n",
      "[1° Epoch] | 1120° batch: Training loss =  0.024738 | Validation loss =  1.04534\n",
      "[1° Epoch] | 1152° batch: Training loss =  0.024261 | Validation loss =  1.05747\n",
      "[1° Epoch] | 1184° batch: Training loss =  0.022448 | Validation loss =  1.05191\n",
      "[1° Epoch] | 1216° batch: Training loss =  0.021209 | Validation loss =  1.05167\n",
      "[1° Epoch] | 1248° batch: Training loss =  0.020506 | Validation loss =  1.06623\n",
      "[1° Epoch] | 1280° batch: Training loss =  0.019497 | Validation loss =  1.07174\n",
      "[1° Epoch] | 1312° batch: Training loss =  0.019138 | Validation loss =  1.09047\n",
      "[1° Epoch] | 1344° batch: Training loss =  0.018451 | Validation loss =  1.08825\n",
      "[1° Epoch] | 1376° batch: Training loss =  0.017743 | Validation loss =  1.10429\n",
      "[1° Epoch] | 1408° batch: Training loss =  0.017231 | Validation loss =  1.10949\n",
      "[1° Epoch] | 1440° batch: Training loss =  0.016590 | Validation loss =  1.10806\n",
      "[1° Epoch] | 1472° batch: Training loss =  0.015678 | Validation loss =  1.11447\n",
      "[1° Epoch] | 1504° batch: Training loss =  0.015755 | Validation loss =  1.13721\n",
      "[1° Epoch] | 1536° batch: Training loss =  0.014743 | Validation loss =  1.14044\n",
      "[1° Epoch] | 1568° batch: Training loss =  0.014238 | Validation loss =  1.13405\n",
      "[1° Epoch] | 1600° batch: Training loss =  0.013974 | Validation loss =  1.14071\n",
      "[1° Epoch] | 1632° batch: Training loss =  0.013947 | Validation loss =  1.14477\n",
      "[1° Epoch] | 1664° batch: Training loss =  0.013272 | Validation loss =  1.15964\n",
      "[1° Epoch] | 1696° batch: Training loss =  0.013054 | Validation loss =  1.16265\n",
      "[1° Epoch] | 1728° batch: Training loss =  0.012775 | Validation loss =  1.17666\n",
      "[1° Epoch] | 1760° batch: Training loss =  0.012493 | Validation loss =  1.17510\n",
      "[1° Epoch] | 1792° batch: Training loss =  0.012110 | Validation loss =  1.19272\n",
      "[1° Epoch] | 1824° batch: Training loss =  0.011831 | Validation loss =  1.19122\n",
      "[1° Epoch] | 1856° batch: Training loss =  0.011310 | Validation loss =  1.18704\n",
      "[1° Epoch] | 1888° batch: Training loss =  0.011222 | Validation loss =  1.19792\n",
      "[1° Epoch] | 1920° batch: Training loss =  0.011081 | Validation loss =  1.21270\n",
      "[1° Epoch] | 1952° batch: Training loss =  0.010593 | Validation loss =  1.20078\n",
      "[1° Epoch] | 1984° batch: Training loss =  0.010286 | Validation loss =  1.20125\n",
      "[1° Epoch] | 2016° batch: Training loss =  0.010113 | Validation loss =  1.20821\n",
      "[1° Epoch] | 2048° batch: Training loss =  0.009883 | Validation loss =  1.21354\n",
      "Saiu porque atingiu o limite\n",
      "Terminou o treinamento\n"
     ]
    }
   ],
   "source": [
    "model, criterion, optimizer, dataset, dataloader = create_everything(64, DEVICE, division = 0.9)\n",
    "training(model, criterion, optimizer, dataloader, DEVICE, LIMIT = 0.01, EPOCHS=4)"
   ]
  },
  {
   "cell_type": "code",
   "execution_count": 13,
   "metadata": {},
   "outputs": [
    {
     "data": {
      "image/png": "[encoded data removed]",
      "text/plain": [
       "<Figure size 640x480 with 1 Axes>"
      ]
     },
     "metadata": {},
     "output_type": "display_data"
    }
   ],
   "source": [
    "graph_validation(model, dataloader, DEVICE)"
   ]
  },
  {
   "cell_type": "code",
   "execution_count": 14,
   "metadata": {},
   "outputs": [],
   "source": [
    "# model, _, _ = load_model('modelo_cnn64_simple_91.pth', 64, DEVICE)"
   ]
  },
  {
   "cell_type": "code",
   "execution_count": 15,
   "metadata": {},
   "outputs": [
    {
     "name": "stdout",
     "output_type": "stream",
     "text": [
      "Entrou em  tests\n",
      "Entrou em  tests\\grupo0\n",
      "01dos.csv \t\t Acurácia 61.39817629179332% | Total: 61.39817629179332%\n",
      "02false.csv \t\t Acurácia 63.6963696369637% | Total: 62.5%\n",
      "03fuzz.csv \t\t Acurácia 94.83985765124555% | Total: 72.45345016429354%\n",
      "04impersonate.csv \t Acurácia 68.0140597539543% | Total: 71.39874739039665%\n",
      "Entrou em  tests\\grupo1\n",
      "11dos.csv \t\t Acurácia 64.84848484848484% | Total: 69.98363338788872%\n",
      "12false.csv \t\t Acurácia 63.934426229508205% | Total: 68.9768076398363%\n",
      "13fuzz.csv \t\t Acurácia 94.84902309058614% | Total: 72.42194891201514%\n",
      "14impersonate.csv \t Acurácia 67.95096322241682% | Total: 71.88997707855803%\n",
      "Entrou em  tests\\grupo2\n",
      "21dos.csv \t\t Acurácia 64.18816388467374% | Total: 70.96005862953463%\n",
      "22false.csv \t\t Acurácia 63.81578947368421% | Total: 70.24398285525882%\n",
      "23fuzz.csv \t\t Acurácia 94.84902309058614% | Total: 72.3336853220697%\n",
      "24impersonate.csv \t Acurácia 68.24561403508773% | Total: 72.01000138908181%\n",
      "Acurácia total 72.01000138908181%\n"
     ]
    }
   ],
   "source": [
    "def testing(model, path_to_files, window, limit = 0.5, device = 'cpu'):\n",
    "\tpositivo, negativo, falso_positivo, falso_negativo = 0,0,0,0\n",
    "\thits, total = 0,0\n",
    "\tmodel.eval()\n",
    "\tnormal = []\n",
    "\tattack = [[],[],[],[]]\n",
    "\n",
    "\t# Começar a checar\n",
    "\tfor dirpath, dirname, filenames in os.walk(path_to_files):\n",
    "\t\tprint(\"Entrou em \", dirpath)\n",
    "\t\tfor i, filename in enumerate(filenames):\n",
    "\t\t\tcur_hit, cur_total = 0,0\n",
    "\t\t\tif i != 3: \tprint(f\"{filename} \\t\\t \", end = \"\")\n",
    "\t\t\telse: \t\tprint(f\"{filename} \\t \", end = \"\") # Impersonate\n",
    "\t\t\t# Lendo arquivo\n",
    "\t\t\tframe = pd.read_csv(f\"{os.path.join(dirpath, filename)}\")\n",
    "\t\t\tseparar = [frame[i : i + window] for i in range(0, len(frame) - (len(frame) % window), window)]\n",
    "\t\t\tdata, label = zip(*[get_information(x) for x in separar])\n",
    "\t\t\t# Predict\n",
    "\t\t\tresult = model(torch.stack(data).to(device))\n",
    "\t\t\t# label = torch.stack(label)\n",
    "\t\t\tfor x, y in zip(result, label):\n",
    "\t\t\t\tr, l = x.item(), y.item()\n",
    "\t\t\t\t# Checar valores\n",
    "\t\t\t\tif \t (r >= limit and l == 1.0): positivo += 1; hits += 1; cur_hit += 1\n",
    "\t\t\t\telif (r < limit and l == 0.0): negativo += 1; hits += 1; cur_hit += 1\n",
    "\t\t\t\telif (r >= limit and l == 0.0): falso_positivo += 1\n",
    "\t\t\t\telif (r < limit and l == 1.0): falso_negativo += 1\n",
    "\t\t\t\ttotal += 1; cur_total += 1\n",
    "\t\t\t\t# Colocar nos valores\n",
    "\t\t\t\tif l == 1.0: normal.append(r)\n",
    "\t\t\t\telse: attack[i].append(r)\n",
    "\t\t\tprint(f\"Acurácia {cur_hit/cur_total * 100}% | Total: {hits/total * 100}%\")\n",
    "\t# Retornando\n",
    "\tif total: return hits/total, hits, total, [normal] + attack, [positivo, falso_positivo, falso_negativo, negativo] # Porcentagem de certo\n",
    "\n",
    "acc, acert, total, graphs, confusion_matrix = testing(model, 'tests', 64, device = DEVICE)\n",
    "print(f\"Acurácia total {acc * 100}%\")"
   ]
  },
  {
   "cell_type": "code",
   "execution_count": 16,
   "metadata": {},
   "outputs": [
    {
     "name": "stdout",
     "output_type": "stream",
     "text": [
      "Positivo: 0.71 \t\t| Falso Positivo: 0.28\n",
      "Falso Negativo: 0.00 \t| Negativo: 0.01\n"
     ]
    },
    {
     "data": {
      "image/png": "[encoded data removed]",
      "text/plain": [
       "<Figure size 640x480 with 1 Axes>"
      ]
     },
     "metadata": {},
     "output_type": "display_data"
    }
   ],
   "source": [
    "def make_graph(datas, confusion_matrix, graph_range = (0,1)):\n",
    "\ttotal = sum(confusion_matrix)\n",
    "\tprint(f\"Positivo: {confusion_matrix[0]/total :.2f} \\t\\t| Falso Positivo: {confusion_matrix[1]/total :.2f}\")\n",
    "\tprint(f\"Falso Negativo: {confusion_matrix[2]/total :.2f} \\t| Negativo: {confusion_matrix[3]/total :.2f}\")\n",
    "\n",
    "\t# Fazendo gráfico\n",
    "\tplt.hist(datas[0], bins = 100, color='b',  range = graph_range)\n",
    "\tplt.hist(datas[1], bins = 100, color='r',  range = graph_range, label='dos')\t\n",
    "\tplt.hist(datas[2], bins = 100, color='g',  range = graph_range, label='false')\t\n",
    "\tplt.hist(datas[3], bins = 100, color='y',  range = graph_range, label='fuzz')\t\n",
    "\tplt.hist(datas[4], bins = 100, color='m',  range = graph_range, label='impersonate')\t\n",
    "\tplt.legend(); plt.yscale('log')\n",
    "\n",
    "make_graph(graphs, confusion_matrix)"
   ]
  },
  {
   "cell_type": "code",
   "execution_count": 17,
   "metadata": {},
   "outputs": [],
   "source": [
    "# save_model(model, 'modelo_cnn64_91.pth')"
   ]
  },
  {
   "cell_type": "code",
   "execution_count": 18,
   "metadata": {},
   "outputs": [],
   "source": [
    "# model, criterion, optimizer = load_model('modelo_cnn32.pth', 32, DEVICE)"
   ]
  },
  {
   "cell_type": "code",
   "execution_count": null,
   "metadata": {},
   "outputs": [],
   "source": []
  }
 ],
 "metadata": {
  "kernelspec": {
   "display_name": "Python 3",
   "language": "python",
   "name": "python3"
  },
  "language_info": {
   "codemirror_mode": {
    "name": "ipython",
    "version": 3
   },
   "file_extension": ".py",
   "mimetype": "text/x-python",
   "name": "python",
   "nbconvert_exporter": "python",
   "pygments_lexer": "ipython3",
   "version": "3.12.4"
  }
 },
 "nbformat": 4,
 "nbformat_minor": 2
}
